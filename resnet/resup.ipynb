{
  "nbformat": 4,
  "nbformat_minor": 0,
  "metadata": {
    "colab": {
      "provenance": []
    },
    "kernelspec": {
      "name": "python3",
      "display_name": "Python 3"
    },
    "language_info": {
      "name": "python"
    }
  },
  "cells": [
    {
      "cell_type": "code",
      "execution_count": null,
      "metadata": {
        "id": "VCMkae-6oCHT"
      },
      "outputs": [],
      "source": [
        "Training"
      ]
    },
    {
      "cell_type": "markdown",
      "source": [
        "Imports, Random Seeding"
      ],
      "metadata": {
        "id": "FF02oHhZoaVT"
      }
    },
    {
      "cell_type": "code",
      "source": [
        "import os\n",
        "import random\n",
        "import numpy as np\n",
        "import torch\n",
        "import torch.nn as nn\n",
        "import torch.optim as optim\n",
        "import torch.nn.functional as F\n",
        "from torch.utils.data import Dataset, DataLoader\n",
        "from torchvision import transforms\n",
        "import torchvision.transforms.functional as TF\n",
        "import matplotlib.pyplot as plt\n",
        "from PIL import Image\n",
        "import cv2\n",
        "from google.colab import drive\n",
        "from tqdm import tqdm\n",
        "import gc  # For garbage collection\n",
        "import time\n",
        "\n",
        "# Set random seeds for reproducibility\n",
        "random.seed(42)\n",
        "np.random.seed(42)\n",
        "torch.manual_seed(42)\n",
        "torch.cuda.manual_seed_all(42)\n",
        "\n",
        "# Mount Google Drive\n",
        "drive.mount('/content/drive')\n"
      ],
      "metadata": {
        "id": "W28Klde_oS9u"
      },
      "execution_count": null,
      "outputs": []
    },
    {
      "cell_type": "markdown",
      "source": [
        "Define Dataset Paths"
      ],
      "metadata": {
        "id": "7fRTTNhBomtq"
      }
    },
    {
      "cell_type": "code",
      "source": [
        "# Define paths\n",
        "cityscapes_path = \"/content/drive/MyDrive/cityscape\"\n",
        "subset_path = \"/content/drive/MyDrive/cityscapes_subset\"\n",
        "\n",
        "# Create directories for subset if they don't exist\n",
        "if not os.path.exists(subset_path):\n",
        "    os.makedirs(subset_path)\n",
        "    os.makedirs(os.path.join(subset_path, \"leftImg8bit\"))\n",
        "    os.makedirs(os.path.join(subset_path, \"gtFine\"))\n",
        "    for split in [\"train\", \"val\"]:\n",
        "        os.makedirs(os.path.join(subset_path, \"leftImg8bit\", split))\n",
        "        os.makedirs(os.path.join(subset_path, \"gtFine\", split))\n"
      ],
      "metadata": {
        "id": "QP6TSZDZon3t"
      },
      "execution_count": null,
      "outputs": []
    },
    {
      "cell_type": "markdown",
      "source": [
        "Subset Creation Function"
      ],
      "metadata": {
        "id": "RgXU0mePoqbr"
      }
    },
    {
      "cell_type": "code",
      "source": [
        "def create_subset(source_path, target_path, split, cities_per_split=2, images_per_city=15, target_size=(384, 192)):\n",
        "    \"\"\"\n",
        "    Create a subset of the Cityscapes dataset with reduced resolution.\n",
        "\n",
        "    Args:\n",
        "        source_path: Path to the original Cityscapes dataset\n",
        "        target_path: Path to store the subset\n",
        "        split: 'train' or 'val'\n",
        "        cities_per_split: Number of cities to include (REDUCED)\n",
        "        images_per_city: Number of images per city (REDUCED)\n",
        "        target_size: Target image size (width, height) (REDUCED)\n",
        "    \"\"\"\n",
        "    # Get list of cities for this split\n",
        "    img_cities = os.listdir(os.path.join(source_path, \"leftImg8bit\", split))\n",
        "    label_cities = os.listdir(os.path.join(source_path, \"gtFine\", split))\n",
        "\n",
        "    # Ensure the cities exist in both image and label directories\n",
        "    cities = [city for city in img_cities if city in label_cities]\n",
        "\n",
        "    # Select a subset of cities\n",
        "    if len(cities) > cities_per_split:\n",
        "        cities = sorted(cities)[:cities_per_split]\n",
        "\n",
        "    print(f\"Selected cities for {split}: {cities}\")\n",
        "\n",
        "    # Process each city\n",
        "    for city in cities:\n",
        "        # Create target directories\n",
        "        os.makedirs(os.path.join(target_path, \"leftImg8bit\", split, city), exist_ok=True)\n",
        "        os.makedirs(os.path.join(target_path, \"gtFine\", split, city), exist_ok=True)\n",
        "\n",
        "        # Get image and label files\n",
        "        img_files = sorted(os.listdir(os.path.join(source_path, \"leftImg8bit\", split, city)))\n",
        "\n",
        "        # Select a subset of images\n",
        "        if len(img_files) > images_per_city:\n",
        "            img_files = sorted(img_files)[:images_per_city]\n",
        "\n",
        "        print(f\"Processing {len(img_files)} images from {city}\")\n",
        "\n",
        "        # Process each image\n",
        "        for img_file in img_files:\n",
        "            # Extract image ID\n",
        "            img_id = img_file.split('_leftImg8bit')[0]\n",
        "\n",
        "            # Get corresponding label file\n",
        "            labelIds_file = f\"{img_id}_gtFine_labelIds.png\"\n",
        "\n",
        "            # Check if label file exists\n",
        "            if not os.path.exists(os.path.join(source_path, \"gtFine\", split, city, labelIds_file)):\n",
        "                print(f\"Warning: {labelIds_file} not found, skipping {img_file}\")\n",
        "                continue\n",
        "\n",
        "            # Load and resize image\n",
        "            img_path = os.path.join(source_path, \"leftImg8bit\", split, city, img_file)\n",
        "            img = Image.open(img_path)\n",
        "            img_resized = img.resize(target_size, Image.BILINEAR)\n",
        "\n",
        "            # Load and resize labelIds\n",
        "            label_path = os.path.join(source_path, \"gtFine\", split, city, labelIds_file)\n",
        "            label = Image.open(label_path)\n",
        "            label_resized = label.resize(target_size, Image.NEAREST)\n",
        "\n",
        "            # Save resized image and label\n",
        "            img_resized.save(os.path.join(target_path, \"leftImg8bit\", split, city, img_file))\n",
        "            label_resized.save(os.path.join(target_path, \"gtFine\", split, city, labelIds_file))\n",
        "\n",
        "print(\"Creating dataset subset...\")\n",
        "create_subset(cityscapes_path, subset_path, \"train\", cities_per_split=2, images_per_city=25)\n",
        "create_subset(cityscapes_path, subset_path, \"val\", cities_per_split=1, images_per_city=10)\n",
        "print(\"Dataset subset created!\")\n"
      ],
      "metadata": {
        "id": "55g8zZYhoyKg"
      },
      "execution_count": null,
      "outputs": []
    }
  ]
}