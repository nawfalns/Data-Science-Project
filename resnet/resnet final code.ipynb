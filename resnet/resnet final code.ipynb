{
  "nbformat": 4,
  "nbformat_minor": 0,
  "metadata": {
    "colab": {
      "provenance": [],
      "gpuType": "T4"
    },
    "kernelspec": {
      "name": "python3",
      "display_name": "Python 3"
    },
    "language_info": {
      "name": "python"
    },
    "accelerator": "GPU"
  },
  "cells": [
    {
      "cell_type": "markdown",
      "source": [
        " Training"
      ],
      "metadata": {
        "id": "ry6TfQ0mUIWf"
      }
    },
    {
      "cell_type": "markdown",
      "source": [
        "Imports, Random Seeding"
      ],
      "metadata": {
        "id": "SfO3t6whbsCX"
      }
    },
    {
      "cell_type": "code",
      "source": [
        "import os\n",
        "import random\n",
        "import numpy as np\n",
        "import torch\n",
        "import torch.nn as nn\n",
        "import torch.optim as optim\n",
        "import torch.nn.functional as F\n",
        "from torch.utils.data import Dataset, DataLoader\n",
        "from torchvision import transforms\n",
        "import torchvision.transforms.functional as TF\n",
        "import matplotlib.pyplot as plt\n",
        "from PIL import Image\n",
        "import cv2\n",
        "from google.colab import drive\n",
        "from tqdm import tqdm\n",
        "import gc  # For garbage collection\n",
        "import time\n",
        "\n",
        "# Set random seeds for reproducibility\n",
        "random.seed(42)\n",
        "np.random.seed(42)\n",
        "torch.manual_seed(42)\n",
        "torch.cuda.manual_seed_all(42)\n",
        "\n",
        "# Mount Google Drive\n",
        "drive.mount('/content/drive')\n"
      ],
      "metadata": {
        "id": "_Rb0YPhfUIst",
        "colab": {
          "base_uri": "https://localhost:8080/"
        },
        "outputId": "2e57d9a8-1cc8-4d5b-d351-bd6d87181c07"
      },
      "execution_count": null,
      "outputs": [
        {
          "output_type": "stream",
          "name": "stdout",
          "text": [
            "Mounted at /content/drive\n"
          ]
        }
      ]
    },
    {
      "cell_type": "markdown",
      "source": [
        "Define Dataset Paths"
      ],
      "metadata": {
        "id": "Avlo1fCicO6y"
      }
    },
    {
      "cell_type": "code",
      "source": [
        "# Define paths\n",
        "cityscapes_path = \"/content/drive/MyDrive/cityscape\"\n",
        "subset_path = \"/content/drive/MyDrive/cityscapes_subset\"\n",
        "\n",
        "# Create directories for subset if they don't exist\n",
        "if not os.path.exists(subset_path):\n",
        "    os.makedirs(subset_path)\n",
        "    os.makedirs(os.path.join(subset_path, \"leftImg8bit\"))\n",
        "    os.makedirs(os.path.join(subset_path, \"gtFine\"))\n",
        "    for split in [\"train\", \"val\"]:\n",
        "        os.makedirs(os.path.join(subset_path, \"leftImg8bit\", split))\n",
        "        os.makedirs(os.path.join(subset_path, \"gtFine\", split))\n"
      ],
      "metadata": {
        "id": "xL_aKw3nUKLx"
      },
      "execution_count": null,
      "outputs": []
    },
    {
      "cell_type": "markdown",
      "source": [
        "Subset Creation Function"
      ],
      "metadata": {
        "id": "aszDh31GcpZr"
      }
    },
    {
      "cell_type": "code",
      "source": [
        "def create_subset(source_path, target_path, split, cities_per_split=2, images_per_city=15, target_size=(384, 192)):\n",
        "    \"\"\"\n",
        "    Create a subset of the Cityscapes dataset with reduced resolution.\n",
        "\n",
        "    Args:\n",
        "        source_path: Path to the original Cityscapes dataset\n",
        "        target_path: Path to store the subset\n",
        "        split: 'train' or 'val'\n",
        "        cities_per_split: Number of cities to include (REDUCED)\n",
        "        images_per_city: Number of images per city (REDUCED)\n",
        "        target_size: Target image size (width, height) (REDUCED)\n",
        "    \"\"\"\n",
        "    # Get list of cities for this split\n",
        "    img_cities = os.listdir(os.path.join(source_path, \"leftImg8bit\", split))\n",
        "    label_cities = os.listdir(os.path.join(source_path, \"gtFine\", split))\n",
        "\n",
        "    # Ensure the cities exist in both image and label directories\n",
        "    cities = [city for city in img_cities if city in label_cities]\n",
        "\n",
        "    # Select a subset of cities\n",
        "    if len(cities) > cities_per_split:\n",
        "        cities = sorted(cities)[:cities_per_split]\n",
        "\n",
        "    print(f\"Selected cities for {split}: {cities}\")\n",
        "\n",
        "    # Process each city\n",
        "    for city in cities:\n",
        "        # Create target directories\n",
        "        os.makedirs(os.path.join(target_path, \"leftImg8bit\", split, city), exist_ok=True)\n",
        "        os.makedirs(os.path.join(target_path, \"gtFine\", split, city), exist_ok=True)\n",
        "\n",
        "        # Get image and label files\n",
        "        img_files = sorted(os.listdir(os.path.join(source_path, \"leftImg8bit\", split, city)))\n",
        "\n",
        "        # Select a subset of images\n",
        "        if len(img_files) > images_per_city:\n",
        "            img_files = sorted(img_files)[:images_per_city]\n",
        "\n",
        "        print(f\"Processing {len(img_files)} images from {city}\")\n",
        "\n",
        "        # Process each image\n",
        "        for img_file in img_files:\n",
        "            # Extract image ID\n",
        "            img_id = img_file.split('_leftImg8bit')[0]\n",
        "\n",
        "            # Get corresponding label file\n",
        "            labelIds_file = f\"{img_id}_gtFine_labelIds.png\"\n",
        "\n",
        "            # Check if label file exists\n",
        "            if not os.path.exists(os.path.join(source_path, \"gtFine\", split, city, labelIds_file)):\n",
        "                print(f\"Warning: {labelIds_file} not found, skipping {img_file}\")\n",
        "                continue\n",
        "\n",
        "            # Load and resize image\n",
        "            img_path = os.path.join(source_path, \"leftImg8bit\", split, city, img_file)\n",
        "            img = Image.open(img_path)\n",
        "            img_resized = img.resize(target_size, Image.BILINEAR)\n",
        "\n",
        "            # Load and resize labelIds\n",
        "            label_path = os.path.join(source_path, \"gtFine\", split, city, labelIds_file)\n",
        "            label = Image.open(label_path)\n",
        "            label_resized = label.resize(target_size, Image.NEAREST)\n",
        "\n",
        "            # Save resized image and label\n",
        "            img_resized.save(os.path.join(target_path, \"leftImg8bit\", split, city, img_file))\n",
        "            label_resized.save(os.path.join(target_path, \"gtFine\", split, city, labelIds_file))\n",
        "\n",
        "print(\"Creating dataset subset...\")\n",
        "create_subset(cityscapes_path, subset_path, \"train\", cities_per_split=2, images_per_city=25)\n",
        "create_subset(cityscapes_path, subset_path, \"val\", cities_per_split=1, images_per_city=10)\n",
        "print(\"Dataset subset created!\")\n"
      ],
      "metadata": {
        "id": "GLnkS2X5UQQM",
        "colab": {
          "base_uri": "https://localhost:8080/"
        },
        "outputId": "2b0a77ac-404e-48aa-e743-7c9127e66e46"
      },
      "execution_count": null,
      "outputs": [
        {
          "output_type": "stream",
          "name": "stdout",
          "text": [
            "Creating dataset subset...\n",
            "Selected cities for train: ['aachen', 'bochum']\n",
            "Processing 25 images from aachen\n",
            "Processing 25 images from bochum\n",
            "Selected cities for val: ['frankfurt']\n",
            "Processing 10 images from frankfurt\n",
            "Dataset subset created!\n"
          ]
        }
      ]
    },
    {
      "cell_type": "markdown",
      "source": [
        "Define Cityscapes colour Mappings"
      ],
      "metadata": {
        "id": "40Lz5UYvcve-"
      }
    },
    {
      "cell_type": "code",
      "source": [
        "# Cityscapes ID to train ID mapping (19 evaluation classes)\n",
        "cityscapes_id_to_train_id = {\n",
        "    0: 255,  # 'unlabeled'\n",
        "    1: 255,  # 'ego vehicle'\n",
        "    2: 255,  # 'rectification border'\n",
        "    3: 255,  # 'out of roi'\n",
        "    4: 255,  # 'static'\n",
        "    5: 255,  # 'dynamic'\n",
        "    6: 255,  # 'ground'\n",
        "    7: 0,    # 'road'\n",
        "    8: 1,    # 'sidewalk'\n",
        "    9: 255,  # 'parking'\n",
        "    10: 255, # 'rail track'\n",
        "    11: 2,   # 'building'\n",
        "    12: 3,   # 'wall'\n",
        "    13: 4,   # 'fence'\n",
        "    14: 255, # 'guard rail'\n",
        "    15: 255, # 'bridge'\n",
        "    16: 255, # 'tunnel'\n",
        "    17: 5,   # 'pole'\n",
        "    18: 255, # 'polegroup'\n",
        "    19: 6,   # 'traffic light'\n",
        "    20: 7,   # 'traffic sign'\n",
        "    21: 8,   # 'vegetation'\n",
        "    22: 9,   # 'terrain'\n",
        "    23: 10,  # 'sky'\n",
        "    24: 11,  # 'person'\n",
        "    25: 12,  # 'rider'\n",
        "    26: 13,  # 'car'\n",
        "    27: 14,  # 'truck'\n",
        "    28: 15,  # 'bus'\n",
        "    29: 255, # 'caravan'\n",
        "    30: 255, # 'trailer'\n",
        "    31: 16,  # 'train'\n",
        "    32: 17,  # 'motorcycle'\n",
        "    33: 18,  # 'bicycle'\n",
        "    -1: 255, # 'license plate'\n",
        "}\n",
        "\n",
        "# Define class names for visualization\n",
        "cityscapes_classes = {\n",
        "    0: 'road', 1: 'sidewalk', 2: 'building', 3: 'wall', 4: 'fence',\n",
        "    5: 'pole', 6: 'traffic light', 7: 'traffic sign', 8: 'vegetation',\n",
        "    9: 'terrain', 10: 'sky', 11: 'person', 12: 'rider', 13: 'car',\n",
        "    14: 'truck', 15: 'bus', 16: 'train', 17: 'motorcycle', 18: 'bicycle'\n",
        "}\n"
      ],
      "metadata": {
        "id": "Qnv0kjteUTFQ"
      },
      "execution_count": null,
      "outputs": []
    },
    {
      "cell_type": "markdown",
      "source": [
        " Define Custom Dataset and Transform"
      ],
      "metadata": {
        "id": "V5EElfS-dNLF"
      }
    },
    {
      "cell_type": "code",
      "source": [
        "\n",
        "# OPTIMIZATION: Improved custom dataset class for Cityscapes\n",
        "class CityscapesDataset(Dataset):\n",
        "    def __init__(self, root_dir, split='train', transform=None, cache_data=True):\n",
        "        \"\"\"\n",
        "        Args:\n",
        "            root_dir: Root directory of the Cityscapes dataset\n",
        "            split: 'train' or 'val'\n",
        "            transform: Optional transform to be applied on a sample\n",
        "            cache_data: Whether to cache dataset in memory\n",
        "        \"\"\"\n",
        "        self.root_dir = root_dir\n",
        "        self.split = split\n",
        "        self.transform = transform\n",
        "        self.cache_data = cache_data\n",
        "        self.images = []\n",
        "        self.labels = []\n",
        "        self.data_cache = {} if cache_data else None\n",
        "\n",
        "        # Get list of all images and labels\n",
        "        img_dir = os.path.join(root_dir, \"leftImg8bit\", split)\n",
        "        label_dir = os.path.join(root_dir, \"gtFine\", split)\n",
        "\n",
        "        for city in os.listdir(img_dir):\n",
        "            city_img_dir = os.path.join(img_dir, city)\n",
        "            city_label_dir = os.path.join(label_dir, city)\n",
        "\n",
        "            for file_name in os.listdir(city_img_dir):\n",
        "                if file_name.endswith(\"_leftImg8bit.png\"):\n",
        "                    img_path = os.path.join(city_img_dir, file_name)\n",
        "\n",
        "                    # Extract image ID\n",
        "                    img_id = file_name.split('_leftImg8bit')[0]\n",
        "\n",
        "                    # Get corresponding label file\n",
        "                    label_file = f\"{img_id}_gtFine_labelIds.png\"\n",
        "                    label_path = os.path.join(city_label_dir, label_file)\n",
        "\n",
        "                    if os.path.exists(label_path):\n",
        "                        self.images.append(img_path)\n",
        "                        self.labels.append(label_path)\n",
        "\n",
        "    def __len__(self):\n",
        "        return len(self.images)\n",
        "\n",
        "    def __getitem__(self, idx):\n",
        "        # Check if item is in cache\n",
        "        if self.cache_data and idx in self.data_cache:\n",
        "            return self.data_cache[idx]\n",
        "\n",
        "        img_path = self.images[idx]\n",
        "        label_path = self.labels[idx]\n",
        "\n",
        "        # Load image and label\n",
        "        image = Image.open(img_path).convert('RGB')\n",
        "        label = Image.open(label_path)\n",
        "\n",
        "        # Convert label IDs to train IDs efficiently\n",
        "        label_np = np.array(label)\n",
        "        label_train_id = np.ones_like(label_np) * 255  # Initialize with ignore index\n",
        "\n",
        "        for id, train_id in cityscapes_id_to_train_id.items():\n",
        "            label_train_id[label_np == id] = train_id\n",
        "\n",
        "        label = Image.fromarray(label_train_id.astype(np.uint8))\n",
        "\n",
        "        # Apply transformations\n",
        "        if self.transform:\n",
        "            image, label = self.transform(image, label)\n",
        "\n",
        "        # Cache item if enabled\n",
        "        if self.cache_data:\n",
        "            self.data_cache[idx] = (image, label)\n",
        "\n",
        "        return image, label\n",
        "\n",
        "# OPTIMIZATION: Simplified data augmentation with fewer transformations\n",
        "class CityscapesTransform:\n",
        "    def __init__(self, split='train', img_size=(384, 192)):\n",
        "        self.split = split\n",
        "        self.img_size = img_size\n",
        "\n",
        "    def __call__(self, image, label):\n",
        "        # Ensure consistent image size for both image and label\n",
        "        image = image.resize(self.img_size, Image.BILINEAR)\n",
        "        label = label.resize(self.img_size, Image.NEAREST)\n",
        "\n",
        "        # Apply minimal data augmentation for training to save computation\n",
        "        if self.split == 'train':\n",
        "            # Random horizontal flip only\n",
        "            if random.random() > 0.5:\n",
        "                image = TF.hflip(image)\n",
        "                label = TF.hflip(label)\n",
        "\n",
        "        # Convert to tensor\n",
        "        image = TF.to_tensor(image)\n",
        "        label = torch.from_numpy(np.array(label)).long()\n",
        "\n",
        "        # Normalize image\n",
        "        image = TF.normalize(image, mean=[0.485, 0.456, 0.406], std=[0.229, 0.224, 0.225])\n",
        "\n",
        "        return image, label\n"
      ],
      "metadata": {
        "id": "cYnk8sntUYKp"
      },
      "execution_count": null,
      "outputs": []
    },
    {
      "cell_type": "markdown",
      "source": [
        "Model Architecture, Metrics"
      ],
      "metadata": {
        "id": "KXk07B0GdZ46"
      }
    },
    {
      "cell_type": "code",
      "source": [
        "# OPTIMIZATION: Lightweight ResNet block\n",
        "class ResidualBlock(nn.Module):\n",
        "    def __init__(self, in_channels, out_channels, stride=1, downsample=None):\n",
        "        super(ResidualBlock, self).__init__()\n",
        "        self.conv1 = nn.Conv2d(in_channels, out_channels, kernel_size=3, stride=stride, padding=1, bias=False)\n",
        "        self.bn1 = nn.BatchNorm2d(out_channels)\n",
        "        self.relu = nn.ReLU(inplace=True)\n",
        "        self.conv2 = nn.Conv2d(out_channels, out_channels, kernel_size=3, padding=1, bias=False)\n",
        "        self.bn2 = nn.BatchNorm2d(out_channels)\n",
        "        self.downsample = downsample\n",
        "\n",
        "    def forward(self, x):\n",
        "        identity = x\n",
        "\n",
        "        out = self.conv1(x)\n",
        "        out = self.bn1(out)\n",
        "        out = self.relu(out)\n",
        "\n",
        "        out = self.conv2(out)\n",
        "        out = self.bn2(out)\n",
        "\n",
        "        if self.downsample is not None:\n",
        "            identity = self.downsample(x)\n",
        "\n",
        "        out += identity\n",
        "        out = self.relu(out)\n",
        "        return out\n",
        "\n",
        "# OPTIMIZATION: Lightweight model architecture\n",
        "class LightweightSegmentation(nn.Module):\n",
        "    def __init__(self, block, num_classes=19):\n",
        "        super(LightweightSegmentation, self).__init__()\n",
        "\n",
        "        # OPTIMIZATION: Reduced number of filters throughout the network\n",
        "        self.in_channels = 32  # Reduced from 64\n",
        "\n",
        "        # Initial convolution with stride 2 to reduce spatial dimensions\n",
        "        self.conv1 = nn.Conv2d(3, self.in_channels, kernel_size=7, stride=2, padding=3, bias=False)\n",
        "        self.bn1 = nn.BatchNorm2d(self.in_channels)\n",
        "        self.relu = nn.ReLU(inplace=True)\n",
        "        self.maxpool = nn.MaxPool2d(kernel_size=3, stride=2, padding=1)\n",
        "\n",
        "        # ResNet layers with reduced layers\n",
        "        self.layer1 = self._make_layer(block, 32, 2, stride=1)\n",
        "        self.layer2 = self._make_layer(block, 64, 2, stride=2)\n",
        "        self.layer3 = self._make_layer(block, 128, 2, stride=2)\n",
        "\n",
        "        # OPTIMIZATION: Skip layer4 to reduce parameters and computation\n",
        "\n",
        "        # OPTIMIZATION: Simplified decoder path\n",
        "        self.upconv1 = nn.ConvTranspose2d(128, 64, kernel_size=4, stride=2, padding=1)\n",
        "        self.upbn1 = nn.BatchNorm2d(64)\n",
        "\n",
        "        self.upconv2 = nn.ConvTranspose2d(64, 32, kernel_size=4, stride=2, padding=1)\n",
        "        self.upbn2 = nn.BatchNorm2d(32)\n",
        "\n",
        "        self.upconv3 = nn.ConvTranspose2d(32, 32, kernel_size=4, stride=2, padding=1)\n",
        "        self.upbn3 = nn.BatchNorm2d(32)\n",
        "\n",
        "        # Final classification layer\n",
        "        self.final_conv = nn.Conv2d(32, num_classes, kernel_size=3, padding=1)\n",
        "\n",
        "        # Initialize weights\n",
        "        for m in self.modules():\n",
        "            if isinstance(m, nn.Conv2d):\n",
        "                nn.init.kaiming_normal_(m.weight, mode='fan_out', nonlinearity='relu')\n",
        "            elif isinstance(m, nn.BatchNorm2d):\n",
        "                nn.init.constant_(m.weight, 1)\n",
        "                nn.init.constant_(m.bias, 0)\n",
        "\n",
        "    def _make_layer(self, block, out_channels, blocks, stride=1):\n",
        "        downsample = None\n",
        "        if stride != 1 or self.in_channels != out_channels:\n",
        "            downsample = nn.Sequential(\n",
        "                nn.Conv2d(self.in_channels, out_channels, kernel_size=1, stride=stride, bias=False),\n",
        "                nn.BatchNorm2d(out_channels)\n",
        "            )\n",
        "\n",
        "        layers = []\n",
        "        layers.append(block(self.in_channels, out_channels, stride, downsample))\n",
        "        self.in_channels = out_channels\n",
        "\n",
        "        for _ in range(1, blocks):\n",
        "            layers.append(block(self.in_channels, out_channels))\n",
        "\n",
        "        return nn.Sequential(*layers)\n",
        "\n",
        "    def forward(self, x):\n",
        "        # Save input size for potential interpolation\n",
        "        input_size = (x.size(2), x.size(3))\n",
        "\n",
        "        # Encoder path\n",
        "        x = self.conv1(x)\n",
        "        x = self.bn1(x)\n",
        "        x = self.relu(x)\n",
        "        x = self.maxpool(x)\n",
        "\n",
        "        x = self.layer1(x)\n",
        "        x = self.layer2(x)\n",
        "        x = self.layer3(x)\n",
        "\n",
        "        # Decoder path\n",
        "        x = self.upconv1(x)\n",
        "        x = self.upbn1(x)\n",
        "        x = self.relu(x)\n",
        "\n",
        "        x = self.upconv2(x)\n",
        "        x = self.upbn2(x)\n",
        "        x = self.relu(x)\n",
        "\n",
        "        x = self.upconv3(x)\n",
        "        x = self.upbn3(x)\n",
        "        x = self.relu(x)\n",
        "\n",
        "        # Final classification\n",
        "        x = self.final_conv(x)\n",
        "\n",
        "        # Ensure output matches input size through interpolation if needed\n",
        "        if x.size(2) != input_size[0] or x.size(3) != input_size[1]:\n",
        "            x = F.interpolate(x, size=input_size, mode='bilinear', align_corners=True)\n",
        "\n",
        "        return x\n",
        "\n",
        "# OPTIMIZATION: Create lightweight model\n",
        "def lightweight_segmentation(num_classes=19):\n",
        "    return LightweightSegmentation(ResidualBlock, num_classes)\n",
        "\n",
        "# Evaluation metrics - simplified to be more memory-efficient\n",
        "def compute_metrics(outputs, labels, num_classes=19, ignore_index=255):\n",
        "    \"\"\"\n",
        "    Compute pixel accuracy and mean IoU with minimal memory usage.\n",
        "    \"\"\"\n",
        "    outputs = torch.argmax(outputs, dim=1)\n",
        "\n",
        "    # Calculate pixel accuracy\n",
        "    mask = (labels != ignore_index)\n",
        "    correct = ((outputs == labels) & mask).sum().float()\n",
        "    total = mask.sum().float()\n",
        "    pixel_acc = correct / (total + 1e-10)\n",
        "\n",
        "    # Calculate IoU for each class - using less memory-intensive approach\n",
        "    iou_sum = 0\n",
        "    iou_count = 0\n",
        "\n",
        "    for cls in range(num_classes):\n",
        "        pred_mask = (outputs == cls)\n",
        "        target_mask = (labels == cls)\n",
        "\n",
        "        if target_mask.sum() > 0:  # Only calculate IoU if class exists in ground truth\n",
        "            intersection = (pred_mask & target_mask).sum().float()\n",
        "            union = (pred_mask | target_mask).sum().float()\n",
        "            iou = intersection / (union + 1e-10)\n",
        "            iou_sum += iou\n",
        "            iou_count += 1\n",
        "\n",
        "    miou = iou_sum / (iou_count + 1e-10)\n",
        "    return pixel_acc.item(), miou.item()\n"
      ],
      "metadata": {
        "id": "U1dnntNwUeNP"
      },
      "execution_count": null,
      "outputs": []
    },
    {
      "cell_type": "markdown",
      "source": [
        "Training and Validation Functions"
      ],
      "metadata": {
        "id": "Y-NXT991drx2"
      }
    },
    {
      "cell_type": "code",
      "source": [
        "\n",
        "# OPTIMIZATION: Simplified training function with memory management\n",
        "def train(model, dataloader, criterion, optimizer, device, scaler=None):\n",
        "    model.train()\n",
        "    running_loss = 0.0\n",
        "\n",
        "    # Empty CUDA cache before training\n",
        "    if device.type == 'cuda':\n",
        "        torch.cuda.empty_cache()\n",
        "\n",
        "    # Use gradient accumulation for larger effective batch size\n",
        "    accumulation_steps = 2  # Accumulate gradients for 2 batches\n",
        "\n",
        "    for i, (images, labels) in enumerate(tqdm(dataloader)):\n",
        "        images, labels = images.to(device), labels.to(device)\n",
        "\n",
        "        # Zero the parameter gradients only at the beginning of accumulation steps\n",
        "        if i % accumulation_steps == 0:\n",
        "            optimizer.zero_grad()\n",
        "\n",
        "        # Mixed precision training block if a scaler is provided\n",
        "        if scaler is not None:\n",
        "            with torch.cuda.amp.autocast():\n",
        "                outputs = model(images)\n",
        "                loss = criterion(outputs, labels)\n",
        "                loss = loss / accumulation_steps  # Normalize loss to account for accumulation\n",
        "            scaler.scale(loss).backward()\n",
        "\n",
        "            if (i + 1) % accumulation_steps == 0:\n",
        "                scaler.step(optimizer)\n",
        "                scaler.update()\n",
        "        else:\n",
        "            outputs = model(images)\n",
        "            loss = criterion(outputs, labels)\n",
        "            loss = loss / accumulation_steps  # Normalize loss\n",
        "            loss.backward()\n",
        "            if (i + 1) % accumulation_steps == 0:\n",
        "                optimizer.step()\n",
        "\n",
        "        running_loss += loss.item() * accumulation_steps\n",
        "\n",
        "        # Clear tensors to free memory\n",
        "        del images, labels, outputs\n",
        "        if i % 5 == 0 and device.type == 'cuda':\n",
        "            torch.cuda.empty_cache()\n",
        "\n",
        "    return running_loss / len(dataloader)\n",
        "\n",
        "# OPTIMIZATION: Simplified validation function with memory management\n",
        "def validate(model, dataloader, criterion, device, num_classes=19):\n",
        "    model.eval()\n",
        "    running_loss = 0.0\n",
        "    pixel_acc_sum = 0.0\n",
        "    miou_sum = 0.0\n",
        "\n",
        "    # Empty CUDA cache before validation\n",
        "    if device.type == 'cuda':\n",
        "        torch.cuda.empty_cache()\n",
        "\n",
        "    with torch.no_grad():\n",
        "        for images, labels in tqdm(dataloader):\n",
        "            images, labels = images.to(device), labels.to(device)\n",
        "            outputs = model(images)\n",
        "            loss = criterion(outputs, labels)\n",
        "\n",
        "            # Compute metrics\n",
        "            pixel_acc, mIoU = compute_metrics(outputs, labels, num_classes)\n",
        "            running_loss += loss.item()\n",
        "            pixel_acc_sum += pixel_acc\n",
        "            miou_sum += mIoU\n",
        "\n",
        "            del images, labels, outputs\n",
        "\n",
        "    avg_loss = running_loss / len(dataloader)\n",
        "    avg_pixel_acc = pixel_acc_sum / len(dataloader)\n",
        "    avg_miou = miou_sum / len(dataloader)\n",
        "    return avg_loss, avg_pixel_acc, avg_miou\n"
      ],
      "metadata": {
        "id": "sN0hoCD-UfX8"
      },
      "execution_count": null,
      "outputs": []
    },
    {
      "cell_type": "markdown",
      "source": [
        "Main Training"
      ],
      "metadata": {
        "id": "x6oCZtXweG2y"
      }
    },
    {
      "cell_type": "code",
      "source": [
        "\n",
        "def main():\n",
        "    # Set device\n",
        "    device = torch.device(\"cuda\" if torch.cuda.is_available() else \"cpu\")\n",
        "    print(f\"Using device: {device}\")\n",
        "\n",
        "    # Hyperparameters - optimized for memory efficiency\n",
        "    batch_size = 8\n",
        "    num_epochs = 25\n",
        "    learning_rate = 0.001\n",
        "    weight_decay = 1e-4\n",
        "    num_classes = 19\n",
        "    ignore_index = 255\n",
        "\n",
        "    # Create datasets and dataloaders with simplified transformations\n",
        "    train_transform = CityscapesTransform(split='train', img_size=(384, 192))\n",
        "    val_transform = CityscapesTransform(split='val', img_size=(384, 192))\n",
        "\n",
        "    train_dataset = CityscapesDataset(subset_path, split='train', transform=train_transform, cache_data=True)\n",
        "    val_dataset = CityscapesDataset(subset_path, split='val', transform=val_transform, cache_data=True)\n",
        "\n",
        "    # Using 2 workers for efficiency\n",
        "    train_loader = DataLoader(train_dataset, batch_size=batch_size, shuffle=True, num_workers=2)\n",
        "    val_loader = DataLoader(val_dataset, batch_size=batch_size, shuffle=False, num_workers=2)\n",
        "\n",
        "    print(f\"Train dataset size: {len(train_dataset)}\")\n",
        "    print(f\"Validation dataset size: {len(val_dataset)}\")\n",
        "\n",
        "    # Create lightweight model and move to device\n",
        "    model = lightweight_segmentation(num_classes).to(device)\n",
        "    print(f\"Model parameters: {sum(p.numel() for p in model.parameters())}\")\n",
        "\n",
        "    criterion = nn.CrossEntropyLoss(ignore_index=ignore_index)\n",
        "    optimizer = optim.AdamW(model.parameters(), lr=learning_rate, weight_decay=weight_decay)\n",
        "\n",
        "    scheduler = optim.lr_scheduler.OneCycleLR(\n",
        "        optimizer,\n",
        "        max_lr=learning_rate * 10,\n",
        "        epochs=num_epochs,\n",
        "        steps_per_epoch=len(train_loader),\n",
        "        pct_start=0.3\n",
        "    )\n",
        "\n",
        "    scaler = torch.cuda.amp.GradScaler() if device.type == 'cuda' else None\n",
        "    print(f\"Using mixed precision: {scaler is not None}\")\n",
        "\n",
        "    early_stop_patience = 5\n",
        "    early_stop_counter = 0\n",
        "    best_miou = 0.0\n",
        "\n",
        "    start_time = time.time()\n",
        "\n",
        "    for epoch in range(num_epochs):\n",
        "        print(f\"Epoch {epoch+1}/{num_epochs}\")\n",
        "\n",
        "        if device.type == 'cuda':\n",
        "            torch.cuda.empty_cache()\n",
        "        gc.collect()\n",
        "\n",
        "        train_loss = train(model, train_loader, criterion, optimizer, device, scaler)\n",
        "        val_loss, pixel_acc, miou = validate(model, val_loader, criterion, device, num_classes)\n",
        "\n",
        "        print(f\"Train Loss: {train_loss:.4f}\")\n",
        "        print(f\"Val Loss: {val_loss:.4f}, Pixel Acc: {pixel_acc:.4f}, mIoU: {miou:.4f}\")\n",
        "\n",
        "        current_lr = optimizer.param_groups[0]['lr']\n",
        "        print(f\"Current LR: {current_lr:.6f}\")\n",
        "\n",
        "        if miou > best_miou:\n",
        "            best_miou = miou\n",
        "            model_half = model.half()\n",
        "            torch.save(model_half.state_dict(), '/content/drive/MyDrive/best_lightweight_segmentation.pth')\n",
        "            model = model.float()\n",
        "            print(f\"Saved best model with mIoU: {best_miou:.4f}\")\n",
        "            early_stop_counter = 0\n",
        "        else:\n",
        "            early_stop_counter += 1\n",
        "            print(f\"Early stopping counter: {early_stop_counter}/{early_stop_patience}\")\n",
        "\n",
        "        if early_stop_counter >= early_stop_patience:\n",
        "            print(f\"Early stopping triggered after epoch {epoch+1}\")\n",
        "            break\n",
        "\n",
        "        if miou >= 0.75:\n",
        "            print(f\"Reached target mIoU of 0.75 at epoch {epoch+1}\")\n",
        "            break\n",
        "\n",
        "        scheduler.step()\n",
        "        print()\n",
        "\n",
        "    total_time = time.time() - start_time\n",
        "    print(f\"Training completed in {total_time/60:.2f} minutes!\")\n",
        "    print(f\"Best mIoU: {best_miou:.4f}\")\n",
        "\n",
        "    # Inference demo is in Cell 9 below.\n",
        "\n",
        "if __name__ == \"__main__\":\n",
        "    main()\n"
      ],
      "metadata": {
        "id": "Oc9077mHUrch",
        "colab": {
          "base_uri": "https://localhost:8080/"
        },
        "outputId": "8b0a6fd1-1062-4f99-8df5-506f640c8cd9"
      },
      "execution_count": null,
      "outputs": [
        {
          "output_type": "stream",
          "name": "stdout",
          "text": [
            "Using device: cuda\n",
            "Train dataset size: 296\n",
            "Validation dataset size: 100\n"
          ]
        },
        {
          "output_type": "stream",
          "name": "stderr",
          "text": [
            "<ipython-input-8-3bd683dd56f8>:43: FutureWarning: `torch.cuda.amp.GradScaler(args...)` is deprecated. Please use `torch.amp.GradScaler('cuda', args...)` instead.\n",
            "  scaler = torch.cuda.amp.GradScaler() if device.type == 'cuda' else None\n"
          ]
        },
        {
          "output_type": "stream",
          "name": "stdout",
          "text": [
            "Model parameters: 885267\n",
            "Using mixed precision: True\n",
            "Epoch 1/25\n"
          ]
        },
        {
          "output_type": "stream",
          "name": "stderr",
          "text": [
            "\r  0%|          | 0/37 [00:00<?, ?it/s]<ipython-input-7-e62d54fd523e>:22: FutureWarning: `torch.cuda.amp.autocast(args...)` is deprecated. Please use `torch.amp.autocast('cuda', args...)` instead.\n",
            "  with torch.cuda.amp.autocast():\n",
            "100%|██████████| 37/37 [01:37<00:00,  2.64s/it]\n",
            "100%|██████████| 13/13 [00:46<00:00,  3.57s/it]\n"
          ]
        },
        {
          "output_type": "stream",
          "name": "stdout",
          "text": [
            "Train Loss: 2.3035\n",
            "Val Loss: 1.8284, Pixel Acc: 0.4903, mIoU: 0.0600\n",
            "Current LR: 0.000400\n",
            "Saved best model with mIoU: 0.0600\n",
            "\n",
            "Epoch 2/25\n"
          ]
        },
        {
          "output_type": "stream",
          "name": "stderr",
          "text": [
            "100%|██████████| 37/37 [00:05<00:00,  6.41it/s]\n",
            "100%|██████████| 13/13 [00:01<00:00,  9.09it/s]\n"
          ]
        },
        {
          "output_type": "stream",
          "name": "stdout",
          "text": [
            "Train Loss: 1.3417\n",
            "Val Loss: 1.4792, Pixel Acc: 0.5626, mIoU: 0.0721\n",
            "Current LR: 0.000400\n",
            "Saved best model with mIoU: 0.0721\n",
            "\n",
            "Epoch 3/25\n"
          ]
        },
        {
          "output_type": "stream",
          "name": "stderr",
          "text": [
            "100%|██████████| 37/37 [00:04<00:00,  9.09it/s]\n",
            "100%|██████████| 13/13 [00:01<00:00,  9.15it/s]\n"
          ]
        },
        {
          "output_type": "stream",
          "name": "stdout",
          "text": [
            "Train Loss: 1.1064\n",
            "Val Loss: 1.1395, Pixel Acc: 0.6746, mIoU: 0.1051\n",
            "Current LR: 0.000401\n",
            "Saved best model with mIoU: 0.1051\n",
            "\n",
            "Epoch 4/25\n"
          ]
        },
        {
          "output_type": "stream",
          "name": "stderr",
          "text": [
            "100%|██████████| 37/37 [00:05<00:00,  6.70it/s]\n",
            "100%|██████████| 13/13 [00:01<00:00,  7.66it/s]\n"
          ]
        },
        {
          "output_type": "stream",
          "name": "stdout",
          "text": [
            "Train Loss: 0.9650\n",
            "Val Loss: 1.0737, Pixel Acc: 0.7035, mIoU: 0.1326\n",
            "Current LR: 0.000403\n",
            "Saved best model with mIoU: 0.1326\n",
            "\n",
            "Epoch 5/25\n"
          ]
        },
        {
          "output_type": "stream",
          "name": "stderr",
          "text": [
            "100%|██████████| 37/37 [00:04<00:00,  9.01it/s]\n",
            "100%|██████████| 13/13 [00:01<00:00,  9.04it/s]\n"
          ]
        },
        {
          "output_type": "stream",
          "name": "stdout",
          "text": [
            "Train Loss: 0.8960\n",
            "Val Loss: 1.0428, Pixel Acc: 0.7073, mIoU: 0.1457\n",
            "Current LR: 0.000405\n",
            "Saved best model with mIoU: 0.1457\n",
            "\n",
            "Epoch 6/25\n"
          ]
        },
        {
          "output_type": "stream",
          "name": "stderr",
          "text": [
            "100%|██████████| 37/37 [00:04<00:00,  7.48it/s]\n",
            "100%|██████████| 13/13 [00:02<00:00,  5.92it/s]\n"
          ]
        },
        {
          "output_type": "stream",
          "name": "stdout",
          "text": [
            "Train Loss: 0.8496\n",
            "Val Loss: 1.0245, Pixel Acc: 0.7081, mIoU: 0.1495\n",
            "Current LR: 0.000408\n",
            "Saved best model with mIoU: 0.1495\n",
            "\n",
            "Epoch 7/25\n"
          ]
        },
        {
          "output_type": "stream",
          "name": "stderr",
          "text": [
            "100%|██████████| 37/37 [00:04<00:00,  9.03it/s]\n",
            "100%|██████████| 13/13 [00:01<00:00,  9.16it/s]\n"
          ]
        },
        {
          "output_type": "stream",
          "name": "stdout",
          "text": [
            "Train Loss: 0.7981\n",
            "Val Loss: 0.9443, Pixel Acc: 0.7398, mIoU: 0.1689\n",
            "Current LR: 0.000411\n",
            "Saved best model with mIoU: 0.1689\n",
            "\n",
            "Epoch 8/25\n"
          ]
        },
        {
          "output_type": "stream",
          "name": "stderr",
          "text": [
            "100%|██████████| 37/37 [00:04<00:00,  8.69it/s]\n",
            "100%|██████████| 13/13 [00:02<00:00,  5.36it/s]\n"
          ]
        },
        {
          "output_type": "stream",
          "name": "stdout",
          "text": [
            "Train Loss: 0.7506\n",
            "Val Loss: 0.9219, Pixel Acc: 0.7397, mIoU: 0.1730\n",
            "Current LR: 0.000415\n",
            "Saved best model with mIoU: 0.1730\n",
            "\n",
            "Epoch 9/25\n"
          ]
        },
        {
          "output_type": "stream",
          "name": "stderr",
          "text": [
            "100%|██████████| 37/37 [00:04<00:00,  8.33it/s]\n",
            "100%|██████████| 13/13 [00:01<00:00,  9.07it/s]\n"
          ]
        },
        {
          "output_type": "stream",
          "name": "stdout",
          "text": [
            "Train Loss: 0.7059\n",
            "Val Loss: 1.1926, Pixel Acc: 0.6632, mIoU: 0.1466\n",
            "Current LR: 0.000420\n",
            "Early stopping counter: 1/5\n",
            "\n",
            "Epoch 10/25\n"
          ]
        },
        {
          "output_type": "stream",
          "name": "stderr",
          "text": [
            "100%|██████████| 37/37 [00:04<00:00,  8.87it/s]\n",
            "100%|██████████| 13/13 [00:02<00:00,  6.26it/s]\n"
          ]
        },
        {
          "output_type": "stream",
          "name": "stdout",
          "text": [
            "Train Loss: 0.6815\n",
            "Val Loss: 1.1946, Pixel Acc: 0.6569, mIoU: 0.1555\n",
            "Current LR: 0.000425\n",
            "Early stopping counter: 2/5\n",
            "\n",
            "Epoch 11/25\n"
          ]
        },
        {
          "output_type": "stream",
          "name": "stderr",
          "text": [
            "100%|██████████| 37/37 [00:05<00:00,  7.31it/s]\n",
            "100%|██████████| 13/13 [00:01<00:00,  9.07it/s]\n"
          ]
        },
        {
          "output_type": "stream",
          "name": "stdout",
          "text": [
            "Train Loss: 0.6359\n",
            "Val Loss: 0.9572, Pixel Acc: 0.7164, mIoU: 0.1720\n",
            "Current LR: 0.000431\n",
            "Early stopping counter: 3/5\n",
            "\n",
            "Epoch 12/25\n"
          ]
        },
        {
          "output_type": "stream",
          "name": "stderr",
          "text": [
            "100%|██████████| 37/37 [00:04<00:00,  8.84it/s]\n",
            "100%|██████████| 13/13 [00:01<00:00,  8.56it/s]\n"
          ]
        },
        {
          "output_type": "stream",
          "name": "stdout",
          "text": [
            "Train Loss: 0.6354\n",
            "Val Loss: 1.1603, Pixel Acc: 0.6581, mIoU: 0.1434\n",
            "Current LR: 0.000437\n",
            "Early stopping counter: 4/5\n",
            "\n",
            "Epoch 13/25\n"
          ]
        },
        {
          "output_type": "stream",
          "name": "stderr",
          "text": [
            "100%|██████████| 37/37 [00:05<00:00,  6.60it/s]\n",
            "100%|██████████| 13/13 [00:01<00:00,  9.21it/s]"
          ]
        },
        {
          "output_type": "stream",
          "name": "stdout",
          "text": [
            "Train Loss: 0.5947\n",
            "Val Loss: 1.2147, Pixel Acc: 0.6579, mIoU: 0.1474\n",
            "Current LR: 0.000445\n",
            "Early stopping counter: 5/5\n",
            "Early stopping triggered after epoch 13\n",
            "Training completed in 3.73 minutes!\n",
            "Best mIoU: 0.1730\n"
          ]
        },
        {
          "output_type": "stream",
          "name": "stderr",
          "text": [
            "\n"
          ]
        }
      ]
    },
    {
      "cell_type": "markdown",
      "source": [
        "Inference Demo and Visualization"
      ],
      "metadata": {
        "id": "v1SEj-5VeNxr"
      }
    },
    {
      "cell_type": "code",
      "source": [
        "\n",
        "def run_inference_example(model, dataloader, device):\n",
        "    \"\"\"Run inference on a single batch for demonstration\"\"\"\n",
        "    model.eval()\n",
        "    with torch.no_grad():\n",
        "        images, labels = next(iter(dataloader))\n",
        "        images, labels = images.to(device), labels.to(device)\n",
        "\n",
        "        start = time.time()\n",
        "        outputs = model(images)\n",
        "        inference_time = time.time() - start\n",
        "\n",
        "        preds = torch.argmax(outputs, dim=1)\n",
        "        print(f\"Inference time for batch of {images.size(0)}: {inference_time:.4f}s\")\n",
        "        print(f\"Per image: {inference_time/images.size(0):.4f}s\")\n",
        "        return images[0], labels[0], preds[0]\n",
        "\n",
        "# Load best model for inference demo\n",
        "try:\n",
        "    device = torch.device(\"cuda\" if torch.cuda.is_available() else \"cpu\")\n",
        "    model = lightweight_segmentation(19).to(device)\n",
        "    model.load_state_dict(torch.load('/content/drive/MyDrive/best_lightweight_segmentation.pth'))\n",
        "    model = model.float()  # Ensure model is in float for inference\n",
        "\n",
        "    print(\"\\nRunning inference demo:\")\n",
        "    # Assume val_loader is defined in the main training (Cell 8) and available here.\n",
        "    # If not, you might need to recreate the validation DataLoader similarly.\n",
        "    _, val_dataset_temp = None, None  # Placeholder if needed; otherwise, reuse the same created dataloader.\n",
        "    # For demo, you may reinstantiate the transform and dataset\n",
        "    val_transform = CityscapesTransform(split='val', img_size=(384, 192))\n",
        "    val_dataset_temp = CityscapesDataset(subset_path, split='val', transform=val_transform, cache_data=True)\n",
        "    val_loader = DataLoader(val_dataset_temp, batch_size=8, shuffle=False, num_workers=2)\n",
        "\n",
        "    image, label, pred = run_inference_example(model, val_loader, device)\n",
        "\n",
        "    # Convert tensors for visualization\n",
        "    image_np = image.cpu().numpy().transpose(1, 2, 0)\n",
        "    mean = np.array([0.485, 0.456, 0.406])\n",
        "    std = np.array([0.229, 0.224, 0.225])\n",
        "    image_np = std * image_np + mean\n",
        "    image_np = np.clip(image_np, 0, 1)\n",
        "\n",
        "    plt.figure(figsize=(12, 4))\n",
        "    plt.subplot(131)\n",
        "    plt.imshow(image_np)\n",
        "    plt.title(\"Input Image\")\n",
        "    plt.axis('off')\n",
        "\n",
        "    plt.subplot(132)\n",
        "    plt.imshow(label.cpu().numpy(), cmap='nipy_spectral', vmin=0, vmax=18)\n",
        "    plt.title(\"Ground Truth\")\n",
        "    plt.axis('off')\n",
        "\n",
        "    plt.subplot(133)\n",
        "    plt.imshow(pred.cpu().numpy(), cmap='nipy_spectral', vmin=0, vmax=18)\n",
        "    plt.title(\"Prediction\")\n",
        "    plt.axis('off')\n",
        "\n",
        "    plt.savefig('/content/drive/MyDrive/segmentation_result.png')\n",
        "    plt.show()\n",
        "\n",
        "except Exception as e:\n",
        "    print(f\"Error in inference demo: {e}\")\n"
      ],
      "metadata": {
        "id": "bHS6xQgtU1kt",
        "colab": {
          "base_uri": "https://localhost:8080/",
          "height": 267
        },
        "outputId": "1212857a-4cc7-4791-fe28-feadb1ad6c5b"
      },
      "execution_count": null,
      "outputs": [
        {
          "output_type": "stream",
          "name": "stdout",
          "text": [
            "\n",
            "Running inference demo:\n",
            "Inference time for batch of 8: 0.0054s\n",
            "Per image: 0.0007s\n"
          ]
        },
        {
          "output_type": "display_data",
          "data": {
            "text/plain": [
              "<Figure size 1200x400 with 3 Axes>"
            ],
            "image/png": "[encoded data removed]"
          },
          "metadata": {}
        }
      ]
    },
    {
      "cell_type": "markdown",
      "source": [
        "# inference"
      ],
      "metadata": {
        "id": "Ep_9nAi-VIcc"
      }
    },
    {
      "cell_type": "markdown",
      "source": [
        "imports and setup"
      ],
      "metadata": {
        "id": "Xm9YN1jsWomK"
      }
    },
    {
      "cell_type": "code",
      "source": [
        "\n",
        "import os\n",
        "import torch\n",
        "import torch.nn as nn\n",
        "import torch.optim as optim\n",
        "from torch.utils.data import Dataset, DataLoader\n",
        "from torchvision import transforms\n",
        "import albumentations as A\n",
        "from albumentations.pytorch import ToTensorV2\n",
        "import cv2  # OpenCV for image processing\n",
        "\n",
        "# T4 GPU Memory Optimization: Enable benchmark for faster convolutions if input sizes are fixed\n",
        "torch.backends.cudnn.benchmark = True\n"
      ],
      "metadata": {
        "id": "_6CsVscbVM-3"
      },
      "execution_count": null,
      "outputs": []
    },
    {
      "cell_type": "markdown",
      "source": [
        "basic block implementation"
      ],
      "metadata": {
        "id": "VFUVDTFgWvh1"
      }
    },
    {
      "cell_type": "code",
      "source": [
        "\n",
        "class BasicBlock(nn.Module):\n",
        "    expansion = 1\n",
        "\n",
        "    def __init__(self, in_channels, out_channels, stride=1):\n",
        "        super(BasicBlock, self).__init__()\n",
        "        # Convolutional layers\n",
        "        self.conv1 = nn.Conv2d(in_channels, out_channels, kernel_size=3,\n",
        "                               stride=stride, padding=1, bias=False)\n",
        "        self.bn1 = nn.BatchNorm2d(out_channels)\n",
        "        self.relu = nn.ReLU(inplace=True)\n",
        "\n",
        "        self.conv2 = nn.Conv2d(out_channels, out_channels, kernel_size=3,\n",
        "                               stride=1, padding=1, bias=False)\n",
        "        self.bn2 = nn.BatchNorm2d(out_channels)\n",
        "\n",
        "        # Shortcut connection\n",
        "        self.shortcut = nn.Sequential()\n",
        "        if stride != 1 or in_channels != self.expansion * out_channels:\n",
        "            self.shortcut = nn.Sequential(\n",
        "                nn.Conv2d(in_channels, self.expansion * out_channels,\n",
        "                          kernel_size=1, stride=stride, bias=False),\n",
        "                nn.BatchNorm2d(self.expansion * out_channels)\n",
        "            )\n",
        "\n",
        "    def forward(self, x):\n",
        "        out = self.relu(self.bn1(self.conv1(x)))\n",
        "        out = self.bn2(self.conv2(out))\n",
        "        # Add shortcut connection\n",
        "        out += self.shortcut(x)\n",
        "        out = self.relu(out)\n",
        "        return out\n"
      ],
      "metadata": {
        "id": "h7-7cItcWDSp"
      },
      "execution_count": null,
      "outputs": []
    },
    {
      "cell_type": "markdown",
      "source": [
        "resnet architecture"
      ],
      "metadata": {
        "id": "kYm88nVSW-gQ"
      }
    },
    {
      "cell_type": "code",
      "source": [
        "\n",
        "class ResNet(nn.Module):\n",
        "    def __init__(self, block, num_blocks, num_classes=19):  # 19 classes for Cityscapes\n",
        "        super(ResNet, self).__init__()\n",
        "        self.in_channels = 64\n",
        "\n",
        "        # Initial convolution\n",
        "        self.conv1 = nn.Conv2d(3, 64, kernel_size=7, stride=2, padding=3, bias=False)\n",
        "        self.bn1 = nn.BatchNorm2d(64)\n",
        "        self.relu = nn.ReLU(inplace=True)\n",
        "        self.maxpool = nn.MaxPool2d(kernel_size=3, stride=2, padding=1)\n",
        "\n",
        "        # Create ResNet layers\n",
        "        self.layer1 = self._make_layer(block, 64, num_blocks[0], stride=1)\n",
        "        self.layer2 = self._make_layer(block, 128, num_blocks[1], stride=2)\n",
        "        self.layer3 = self._make_layer(block, 256, num_blocks[2], stride=2)\n",
        "        self.layer4 = self._make_layer(block, 512, num_blocks[3], stride=2)\n",
        "\n",
        "        # Final classification layer (for semantic segmentation)\n",
        "        self.avgpool = nn.AdaptiveAvgPool2d((1, 1))\n",
        "        self.fc = nn.Conv2d(512 * block.expansion, num_classes, kernel_size=1)\n",
        "\n",
        "    def _make_layer(self, block, out_channels, num_blocks, stride):\n",
        "        strides = [stride] + [1] * (num_blocks - 1)\n",
        "        layers = []\n",
        "        for stride in strides:\n",
        "            layers.append(block(self.in_channels, out_channels, stride))\n",
        "            self.in_channels = out_channels * block.expansion\n",
        "        return nn.Sequential(*layers)\n",
        "\n",
        "    def forward(self, x):\n",
        "        x = self.maxpool(self.relu(self.bn1(self.conv1(x))))\n",
        "        x = self.layer1(x)\n",
        "        x = self.layer2(x)\n",
        "        x = self.layer3(x)\n",
        "        x = self.layer4(x)\n",
        "        x = self.fc(x)\n",
        "        return x\n"
      ],
      "metadata": {
        "id": "WMpH8Ez0WGDT"
      },
      "execution_count": null,
      "outputs": []
    },
    {
      "cell_type": "markdown",
      "source": [
        "cityscape dataset"
      ],
      "metadata": {
        "id": "xZO9UBy8XGBE"
      }
    },
    {
      "cell_type": "code",
      "source": [
        "\n",
        "class CityscapesDataset(Dataset):\n",
        "    def __init__(self, root_dir, split='train', transform=None):\n",
        "        self.root_dir = root_dir\n",
        "        self.split = split\n",
        "        self.transform = transform\n",
        "\n",
        "        # Paths for images and masks\n",
        "        self.image_dir = os.path.join(root_dir, 'leftImg8bit', split)\n",
        "        self.mask_dir = os.path.join(root_dir, 'gtFine', split)\n",
        "\n",
        "        # Collect image and mask paths\n",
        "        self.images = []\n",
        "        self.masks = []\n",
        "\n",
        "        for city in os.listdir(self.image_dir):\n",
        "            city_img_path = os.path.join(self.image_dir, city)\n",
        "            city_mask_path = os.path.join(self.mask_dir, city)\n",
        "            for img_name in os.listdir(city_img_path):\n",
        "                img_path = os.path.join(city_img_path, img_name)\n",
        "                mask_name = img_name.replace('leftImg8bit.png', 'gtFine_labelIds.png')\n",
        "                mask_path = os.path.join(city_mask_path, mask_name)\n",
        "                self.images.append(img_path)\n",
        "                self.masks.append(mask_path)\n",
        "\n",
        "    def __len__(self):\n",
        "        return len(self.images)\n",
        "\n",
        "    def __getitem__(self, idx):\n",
        "        # Read image and mask\n",
        "        image = cv2.imread(self.images[idx])\n",
        "        image = cv2.cvtColor(image, cv2.COLOR_BGR2RGB)\n",
        "        mask = cv2.imread(self.masks[idx], cv2.IMREAD_UNCHANGED)\n",
        "        # Apply transformations (Albumentations expects dictionaries)\n",
        "        if self.transform:\n",
        "            augmented = self.transform(image=image, mask=mask)\n",
        "            image = augmented['image']\n",
        "            mask = augmented['mask']\n",
        "        return image, mask\n"
      ],
      "metadata": {
        "id": "k2FmxGxVWKNM"
      },
      "execution_count": null,
      "outputs": []
    },
    {
      "cell_type": "markdown",
      "source": [
        "Data Tranformation"
      ],
      "metadata": {
        "id": "jR-MTteBXUNh"
      }
    },
    {
      "cell_type": "code",
      "source": [
        "\n",
        "def get_transforms(phase='train'):\n",
        "    if phase == 'train':\n",
        "        return A.Compose([\n",
        "            A.Resize(height=512, width=1024),  # Cityscapes typical resolution\n",
        "            A.HorizontalFlip(p=0.5),\n",
        "            A.RandomBrightnessContrast(p=0.2),\n",
        "            A.Normalize(mean=[0.485, 0.456, 0.406],\n",
        "                        std=[0.229, 0.224, 0.225]),\n",
        "            ToTensorV2()\n",
        "        ])\n",
        "    else:\n",
        "        return A.Compose([\n",
        "            A.Resize(height=512, width=1024),\n",
        "            A.Normalize(mean=[0.485, 0.456, 0.406],\n",
        "                        std=[0.229, 0.224, 0.225]),\n",
        "            ToTensorV2()\n",
        "        ])\n"
      ],
      "metadata": {
        "id": "lUpORTOAWNEm"
      },
      "execution_count": null,
      "outputs": []
    },
    {
      "cell_type": "markdown",
      "source": [
        "Training function"
      ],
      "metadata": {
        "id": "s3Qi9PsaXtrB"
      }
    },
    {
      "cell_type": "code",
      "source": [
        "\n",
        "def train_model(model, train_loader, val_loader, criterion, optimizer,\n",
        "                num_epochs=10, device=torch.device('cuda')):\n",
        "    best_loss = float('inf')\n",
        "    for epoch in range(num_epochs):\n",
        "        model.train()\n",
        "        train_loss = 0.0\n",
        "        for images, masks in train_loader:\n",
        "            images = images.to(device)\n",
        "            masks = masks.to(device)\n",
        "            optimizer.zero_grad()\n",
        "            outputs = model(images)\n",
        "            loss = criterion(outputs, masks)\n",
        "            loss.backward()\n",
        "            optimizer.step()\n",
        "            train_loss += loss.item()\n",
        "        # Validation\n",
        "        model.eval()\n",
        "        val_loss = 0.0\n",
        "        with torch.no_grad():\n",
        "            for images, masks in val_loader:\n",
        "                images = images.to(device)\n",
        "                masks = masks.to(device)\n",
        "                outputs = model(images)\n",
        "                loss = criterion(outputs, masks)\n",
        "                val_loss += loss.item()\n",
        "        # Print epoch statistics\n",
        "        print(f'Epoch {epoch+1}/{num_epochs}')\n",
        "        print(f'Train Loss: {train_loss/len(train_loader):.4f}')\n",
        "        print(f'Val Loss: {val_loss/len(val_loader):.4f}')\n",
        "        # Save best model\n",
        "        if val_loss < best_loss:\n",
        "            best_loss = val_loss\n",
        "            torch.save(model.state_dict(), 'best_resnet_cityscapes.pth')\n"
      ],
      "metadata": {
        "id": "JnT4fc1VWQ_6"
      },
      "execution_count": null,
      "outputs": []
    },
    {
      "cell_type": "markdown",
      "source": [
        "main"
      ],
      "metadata": {
        "id": "lweVaqKEaklM"
      }
    },
    {
      "cell_type": "code",
      "source": [
        "\n",
        "def main():\n",
        "    # Device configuration\n",
        "    device = torch.device('cuda' if torch.cuda.is_available() else 'cpu')\n",
        "\n",
        "    # Model Initialization: using ResNet18 architecture (2,2,2,2 blocks)\n",
        "    model = ResNet(BasicBlock, [2, 2, 2, 2])\n",
        "    model = model.to(device)\n",
        "\n",
        "    # Create datasets and dataloaders\n",
        "    train_transform = get_transforms('train')\n",
        "    val_transform = get_transforms('val')\n",
        "\n",
        "    train_dataset = CityscapesDataset('/content/drive/MyDrive/cityscape', split='train', transform=train_transform)\n",
        "    val_dataset = CityscapesDataset('/content/drive/MyDrive/cityscape', split='val', transform=val_transform)\n",
        "\n",
        "    train_loader = DataLoader(train_dataset,\n",
        "                              batch_size=8,  # Adjust based on GPU memory\n",
        "                              shuffle=True,\n",
        "                              num_workers=2,\n",
        "                              pin_memory=True)\n",
        "    val_loader = DataLoader(val_dataset,\n",
        "                            batch_size=8,\n",
        "                            shuffle=False,\n",
        "                            num_workers=2,\n",
        "                            pin_memory=True)\n",
        "\n",
        "    # Loss and Optimizer\n",
        "    criterion = nn.CrossEntropyLoss()\n",
        "    optimizer = optim.Adam(model.parameters(), lr=0.001)\n",
        "\n",
        "    # Train the model\n",
        "    train_model(model, train_loader, val_loader, criterion, optimizer,\n",
        "                num_epochs=10, device=device)\n",
        "\n",
        "if __name__ == '__main__':\n",
        "    main()\n"
      ],
      "metadata": {
        "id": "rGXF_wUtWZY4",
        "colab": {
          "base_uri": "https://localhost:8080/",
          "height": 345
        },
        "outputId": "c88eb56b-afc7-499f-caa2-ece63cfe7ba2"
      },
      "execution_count": null,
      "outputs": [
        {
          "output_type": "error",
          "ename": "RuntimeError",
          "evalue": "input and target batch or spatial sizes don't match: target [8, 512, 1024], input [8, 19, 16, 32]",
          "traceback": [
            "\u001b[0;31m---------------------------------------------------------------------------\u001b[0m",
            "\u001b[0;31mRuntimeError\u001b[0m                              Traceback (most recent call last)",
            "\u001b[0;32m<ipython-input-17-e16e615d3e38>\u001b[0m in \u001b[0;36m<cell line: 0>\u001b[0;34m()\u001b[0m\n\u001b[1;32m     34\u001b[0m \u001b[0;34m\u001b[0m\u001b[0m\n\u001b[1;32m     35\u001b[0m \u001b[0;32mif\u001b[0m \u001b[0m__name__\u001b[0m \u001b[0;34m==\u001b[0m \u001b[0;34m'__main__'\u001b[0m\u001b[0;34m:\u001b[0m\u001b[0;34m\u001b[0m\u001b[0;34m\u001b[0m\u001b[0m\n\u001b[0;32m---> 36\u001b[0;31m     \u001b[0mmain\u001b[0m\u001b[0;34m(\u001b[0m\u001b[0;34m)\u001b[0m\u001b[0;34m\u001b[0m\u001b[0;34m\u001b[0m\u001b[0m\n\u001b[0m",
            "\u001b[0;32m<ipython-input-17-e16e615d3e38>\u001b[0m in \u001b[0;36mmain\u001b[0;34m()\u001b[0m\n\u001b[1;32m     30\u001b[0m \u001b[0;34m\u001b[0m\u001b[0m\n\u001b[1;32m     31\u001b[0m     \u001b[0;31m# Train the model\u001b[0m\u001b[0;34m\u001b[0m\u001b[0;34m\u001b[0m\u001b[0m\n\u001b[0;32m---> 32\u001b[0;31m     train_model(model, train_loader, val_loader, criterion, optimizer,\n\u001b[0m\u001b[1;32m     33\u001b[0m                 num_epochs=10, device=device)\n\u001b[1;32m     34\u001b[0m \u001b[0;34m\u001b[0m\u001b[0m\n",
            "\u001b[0;32m<ipython-input-15-8b06addef767>\u001b[0m in \u001b[0;36mtrain_model\u001b[0;34m(model, train_loader, val_loader, criterion, optimizer, num_epochs, device)\u001b[0m\n\u001b[1;32m     10\u001b[0m             \u001b[0moptimizer\u001b[0m\u001b[0;34m.\u001b[0m\u001b[0mzero_grad\u001b[0m\u001b[0;34m(\u001b[0m\u001b[0;34m)\u001b[0m\u001b[0;34m\u001b[0m\u001b[0;34m\u001b[0m\u001b[0m\n\u001b[1;32m     11\u001b[0m             \u001b[0moutputs\u001b[0m \u001b[0;34m=\u001b[0m \u001b[0mmodel\u001b[0m\u001b[0;34m(\u001b[0m\u001b[0mimages\u001b[0m\u001b[0;34m)\u001b[0m\u001b[0;34m\u001b[0m\u001b[0;34m\u001b[0m\u001b[0m\n\u001b[0;32m---> 12\u001b[0;31m             \u001b[0mloss\u001b[0m \u001b[0;34m=\u001b[0m \u001b[0mcriterion\u001b[0m\u001b[0;34m(\u001b[0m\u001b[0moutputs\u001b[0m\u001b[0;34m,\u001b[0m \u001b[0mmasks\u001b[0m\u001b[0;34m)\u001b[0m\u001b[0;34m\u001b[0m\u001b[0;34m\u001b[0m\u001b[0m\n\u001b[0m\u001b[1;32m     13\u001b[0m             \u001b[0mloss\u001b[0m\u001b[0;34m.\u001b[0m\u001b[0mbackward\u001b[0m\u001b[0;34m(\u001b[0m\u001b[0;34m)\u001b[0m\u001b[0;34m\u001b[0m\u001b[0;34m\u001b[0m\u001b[0m\n\u001b[1;32m     14\u001b[0m             \u001b[0moptimizer\u001b[0m\u001b[0;34m.\u001b[0m\u001b[0mstep\u001b[0m\u001b[0;34m(\u001b[0m\u001b[0;34m)\u001b[0m\u001b[0;34m\u001b[0m\u001b[0;34m\u001b[0m\u001b[0m\n",
            "\u001b[0;32m/usr/local/lib/python3.11/dist-packages/torch/nn/modules/module.py\u001b[0m in \u001b[0;36m_wrapped_call_impl\u001b[0;34m(self, *args, **kwargs)\u001b[0m\n\u001b[1;32m   1737\u001b[0m             \u001b[0;32mreturn\u001b[0m \u001b[0mself\u001b[0m\u001b[0;34m.\u001b[0m\u001b[0m_compiled_call_impl\u001b[0m\u001b[0;34m(\u001b[0m\u001b[0;34m*\u001b[0m\u001b[0margs\u001b[0m\u001b[0;34m,\u001b[0m \u001b[0;34m**\u001b[0m\u001b[0mkwargs\u001b[0m\u001b[0;34m)\u001b[0m  \u001b[0;31m# type: ignore[misc]\u001b[0m\u001b[0;34m\u001b[0m\u001b[0;34m\u001b[0m\u001b[0m\n\u001b[1;32m   1738\u001b[0m         \u001b[0;32melse\u001b[0m\u001b[0;34m:\u001b[0m\u001b[0;34m\u001b[0m\u001b[0;34m\u001b[0m\u001b[0m\n\u001b[0;32m-> 1739\u001b[0;31m             \u001b[0;32mreturn\u001b[0m \u001b[0mself\u001b[0m\u001b[0;34m.\u001b[0m\u001b[0m_call_impl\u001b[0m\u001b[0;34m(\u001b[0m\u001b[0;34m*\u001b[0m\u001b[0margs\u001b[0m\u001b[0;34m,\u001b[0m \u001b[0;34m**\u001b[0m\u001b[0mkwargs\u001b[0m\u001b[0;34m)\u001b[0m\u001b[0;34m\u001b[0m\u001b[0;34m\u001b[0m\u001b[0m\n\u001b[0m\u001b[1;32m   1740\u001b[0m \u001b[0;34m\u001b[0m\u001b[0m\n\u001b[1;32m   1741\u001b[0m     \u001b[0;31m# torchrec tests the code consistency with the following code\u001b[0m\u001b[0;34m\u001b[0m\u001b[0;34m\u001b[0m\u001b[0m\n",
            "\u001b[0;32m/usr/local/lib/python3.11/dist-packages/torch/nn/modules/module.py\u001b[0m in \u001b[0;36m_call_impl\u001b[0;34m(self, *args, **kwargs)\u001b[0m\n\u001b[1;32m   1748\u001b[0m                 \u001b[0;32mor\u001b[0m \u001b[0m_global_backward_pre_hooks\u001b[0m \u001b[0;32mor\u001b[0m \u001b[0m_global_backward_hooks\u001b[0m\u001b[0;34m\u001b[0m\u001b[0;34m\u001b[0m\u001b[0m\n\u001b[1;32m   1749\u001b[0m                 or _global_forward_hooks or _global_forward_pre_hooks):\n\u001b[0;32m-> 1750\u001b[0;31m             \u001b[0;32mreturn\u001b[0m \u001b[0mforward_call\u001b[0m\u001b[0;34m(\u001b[0m\u001b[0;34m*\u001b[0m\u001b[0margs\u001b[0m\u001b[0;34m,\u001b[0m \u001b[0;34m**\u001b[0m\u001b[0mkwargs\u001b[0m\u001b[0;34m)\u001b[0m\u001b[0;34m\u001b[0m\u001b[0;34m\u001b[0m\u001b[0m\n\u001b[0m\u001b[1;32m   1751\u001b[0m \u001b[0;34m\u001b[0m\u001b[0m\n\u001b[1;32m   1752\u001b[0m         \u001b[0mresult\u001b[0m \u001b[0;34m=\u001b[0m \u001b[0;32mNone\u001b[0m\u001b[0;34m\u001b[0m\u001b[0;34m\u001b[0m\u001b[0m\n",
            "\u001b[0;32m/usr/local/lib/python3.11/dist-packages/torch/nn/modules/loss.py\u001b[0m in \u001b[0;36mforward\u001b[0;34m(self, input, target)\u001b[0m\n\u001b[1;32m   1293\u001b[0m \u001b[0;34m\u001b[0m\u001b[0m\n\u001b[1;32m   1294\u001b[0m     \u001b[0;32mdef\u001b[0m \u001b[0mforward\u001b[0m\u001b[0;34m(\u001b[0m\u001b[0mself\u001b[0m\u001b[0;34m,\u001b[0m \u001b[0minput\u001b[0m\u001b[0;34m:\u001b[0m \u001b[0mTensor\u001b[0m\u001b[0;34m,\u001b[0m \u001b[0mtarget\u001b[0m\u001b[0;34m:\u001b[0m \u001b[0mTensor\u001b[0m\u001b[0;34m)\u001b[0m \u001b[0;34m->\u001b[0m \u001b[0mTensor\u001b[0m\u001b[0;34m:\u001b[0m\u001b[0;34m\u001b[0m\u001b[0;34m\u001b[0m\u001b[0m\n\u001b[0;32m-> 1295\u001b[0;31m         return F.cross_entropy(\n\u001b[0m\u001b[1;32m   1296\u001b[0m             \u001b[0minput\u001b[0m\u001b[0;34m,\u001b[0m\u001b[0;34m\u001b[0m\u001b[0;34m\u001b[0m\u001b[0m\n\u001b[1;32m   1297\u001b[0m             \u001b[0mtarget\u001b[0m\u001b[0;34m,\u001b[0m\u001b[0;34m\u001b[0m\u001b[0;34m\u001b[0m\u001b[0m\n",
            "\u001b[0;32m/usr/local/lib/python3.11/dist-packages/torch/nn/functional.py\u001b[0m in \u001b[0;36mcross_entropy\u001b[0;34m(input, target, weight, size_average, ignore_index, reduce, reduction, label_smoothing)\u001b[0m\n\u001b[1;32m   3492\u001b[0m     \u001b[0;32mif\u001b[0m \u001b[0msize_average\u001b[0m \u001b[0;32mis\u001b[0m \u001b[0;32mnot\u001b[0m \u001b[0;32mNone\u001b[0m \u001b[0;32mor\u001b[0m \u001b[0mreduce\u001b[0m \u001b[0;32mis\u001b[0m \u001b[0;32mnot\u001b[0m \u001b[0;32mNone\u001b[0m\u001b[0;34m:\u001b[0m\u001b[0;34m\u001b[0m\u001b[0;34m\u001b[0m\u001b[0m\n\u001b[1;32m   3493\u001b[0m         \u001b[0mreduction\u001b[0m \u001b[0;34m=\u001b[0m \u001b[0m_Reduction\u001b[0m\u001b[0;34m.\u001b[0m\u001b[0mlegacy_get_string\u001b[0m\u001b[0;34m(\u001b[0m\u001b[0msize_average\u001b[0m\u001b[0;34m,\u001b[0m \u001b[0mreduce\u001b[0m\u001b[0;34m)\u001b[0m\u001b[0;34m\u001b[0m\u001b[0;34m\u001b[0m\u001b[0m\n\u001b[0;32m-> 3494\u001b[0;31m     return torch._C._nn.cross_entropy_loss(\n\u001b[0m\u001b[1;32m   3495\u001b[0m         \u001b[0minput\u001b[0m\u001b[0;34m,\u001b[0m\u001b[0;34m\u001b[0m\u001b[0;34m\u001b[0m\u001b[0m\n\u001b[1;32m   3496\u001b[0m         \u001b[0mtarget\u001b[0m\u001b[0;34m,\u001b[0m\u001b[0;34m\u001b[0m\u001b[0;34m\u001b[0m\u001b[0m\n",
            "\u001b[0;31mRuntimeError\u001b[0m: input and target batch or spatial sizes don't match: target [8, 512, 1024], input [8, 19, 16, 32]"
          ]
        }
      ]
    },
    {
      "cell_type": "code",
      "source": [],
      "metadata": {
        "id": "ezd_U7BvWccu"
      },
      "execution_count": null,
      "outputs": []
    }
  ]
}