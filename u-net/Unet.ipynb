{
  "nbformat": 4,
  "nbformat_minor": 0,
  "metadata": {
    "colab": {
      "provenance": []
    },
    "kernelspec": {
      "name": "python3",
      "display_name": "Python 3"
    },
    "language_info": {
      "name": "python"
    }
  },
  "cells": [
    {
      "cell_type": "code",
      "execution_count": 1,
      "metadata": {
        "colab": {
          "base_uri": "https://localhost:8080/"
        },
        "id": "WQThibja-l0Q",
        "outputId": "1997bb4d-614d-48a2-ef75-109e87d6b08a"
      },
      "outputs": [
        {
          "output_type": "stream",
          "name": "stdout",
          "text": [
            "Mounted at /content/drive\n"
          ]
        }
      ],
      "source": [
        "import os\n",
        "import random\n",
        "import numpy as np\n",
        "import matplotlib.pyplot as plt # metrics visuliztion\n",
        "from PIL import Image # image visulizition\n",
        "import cv2\n",
        "from tqdm import tqdm\n",
        "\n",
        "import torch # main framework\n",
        "import torch.nn as nn\n",
        "import torch.nn.functional as F\n",
        "import torch.optim as optim\n",
        "from torch.utils.data import Dataset, DataLoader, random_split\n",
        "import torchvision.transforms as transforms\n",
        "import torchvision.transforms.functional as TF\n",
        "from torchvision.utils import make_grid\n",
        "\n",
        "from google.colab import drive #dataset from drive\n",
        "\n",
        "# Mount Google Drive\n",
        "drive.mount('/content/drive')\n",
        "\n",
        "# Set random seeds for reproducibility\n",
        "seed = 42\n",
        "random.seed(seed)\n",
        "np.random.seed(seed)\n",
        "torch.manual_seed(seed)\n",
        "torch.cuda.manual_seed_all(seed)\n",
        "torch.backends.cudnn.deterministic = True\n",
        "torch.backends.cudnn.benchmark = False\n",
        "\n",
        "# Paths to Cityscapes dataset in Google Drive\n",
        "DATASET_PATH = '/content/drive/MyDrive/cityscape'\n",
        "IMG_PATH = os.path.join(DATASET_PATH, 'leftImg8bit') #image set\n",
        "GT_PATH = os.path.join(DATASET_PATH, 'gtFine') # mask set\n",
        "\n",
        "# Define lower resolution for images (to save memory)\n",
        "IMG_HEIGHT = 256\n",
        "IMG_WIDTH = 512\n",
        "\n",
        "# Define the number of classes in Cityscapes (\n",
        "NUM_CLASSES = 19\n"
      ]
    }
  ]
}