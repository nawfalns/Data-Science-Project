{
  "nbformat": 4,
  "nbformat_minor": 0,
  "metadata": {
    "colab": {
      "provenance": []
    },
    "kernelspec": {
      "name": "python3",
      "display_name": "Python 3"
    },
    "language_info": {
      "name": "python"
    }
  },
  "cells": [
    {
      "cell_type": "markdown",
      "source": [
        "# unet training"
      ],
      "metadata": {
        "id": "6QwL1XInv2nb"
      }
    },
    {
      "cell_type": "markdown",
      "source": [
        "libaries"
      ],
      "metadata": {
        "id": "jV0zisWov_rw"
      }
    },
    {
      "cell_type": "code",
      "execution_count": null,
      "metadata": {
        "colab": {
          "base_uri": "https://localhost:8080/"
        },
        "id": "WQThibja-l0Q",
        "outputId": "1997bb4d-614d-48a2-ef75-109e87d6b08a"
      },
      "outputs": [
        {
          "output_type": "stream",
          "name": "stdout",
          "text": [
            "Mounted at /content/drive\n"
          ]
        }
      ],
      "source": [
        "import os\n",
        "import random\n",
        "import numpy as np\n",
        "import matplotlib.pyplot as plt # metrics visuliztion\n",
        "from PIL import Image # image visulizition\n",
        "import cv2\n",
        "from tqdm import tqdm\n",
        "\n",
        "import torch # main framework\n",
        "import torch.nn as nn\n",
        "import torch.nn.functional as F\n",
        "import torch.optim as optim\n",
        "from torch.utils.data import Dataset, DataLoader, random_split\n",
        "import torchvision.transforms as transforms\n",
        "import torchvision.transforms.functional as TF\n",
        "from torchvision.utils import make_grid\n",
        "\n",
        "from google.colab import drive #dataset from drive\n",
        "\n",
        "# Mount Google Drive\n",
        "drive.mount('/content/drive')\n",
        "\n",
        "# Set random seeds for reproducibility\n",
        "seed = 42\n",
        "random.seed(seed)\n",
        "np.random.seed(seed)\n",
        "torch.manual_seed(seed)\n",
        "torch.cuda.manual_seed_all(seed)\n",
        "torch.backends.cudnn.deterministic = True\n",
        "torch.backends.cudnn.benchmark = False\n",
        "\n",
        "# Paths to Cityscapes dataset in Google Drive\n",
        "DATASET_PATH = '/content/drive/MyDrive/cityscape'\n",
        "IMG_PATH = os.path.join(DATASET_PATH, 'leftImg8bit') #image set\n",
        "GT_PATH = os.path.join(DATASET_PATH, 'gtFine') # mask set\n",
        "\n",
        "# Define lower resolution for images (to save memory)\n",
        "IMG_HEIGHT = 256\n",
        "IMG_WIDTH = 512\n",
        "\n",
        "# Define the number of classes in Cityscapes (\n",
        "NUM_CLASSES = 19\n"
      ]
    },
    {
      "cell_type": "markdown",
      "source": [
        "colour map"
      ],
      "metadata": {
        "id": "m0xe4AEowC7c"
      }
    },
    {
      "cell_type": "code",
      "source": [
        "# Define color map for visualization\n",
        "cityscapes_colors = [\n",
        "    (0, 0, 0),         # 0: unlabeled\n",
        "    (0, 0, 0),         # 1: ego vehicle\n",
        "    (0, 0, 0),         # 2: rectification border\n",
        "    (0, 0, 0),         # 3: out of roi\n",
        "    (0, 0, 0),         # 4: static\n",
        "    (0, 0, 0),         # 5: dynamic\n",
        "    (0, 0, 0),         # 6: ground\n",
        "    (0, 0, 70),        # 7: road - dark blue\n",
        "    (255, 0, 255),     # 8: sidewalk - magenta\n",
        "    (0, 0, 0),         # 9: parking\n",
        "    (0, 0, 0),         # 10: rail track\n",
        "    (255, 165, 0),     # 11: building - orange\n",
        "    (190, 153, 153),   # 12: wall - light brown\n",
        "    (170, 120, 220),   # 13: fence - light purple\n",
        "    (0, 0, 0),         # 14: guard rail\n",
        "    (0, 0, 0),         # 15: bridge\n",
        "    (0, 0, 0),         # 16: tunnel\n",
        "    (153, 153, 153),   # 17: pole - gray\n",
        "    (0, 0, 0),         # 18: polegroup\n",
        "    (250, 170, 30),    # 19: traffic light - amber\n",
        "    (220, 220, 0),     # 20: traffic sign - yellow\n",
        "    (35, 142, 35),     # 21: vegetation - forest green\n",
        "    (152, 251, 152),   # 22: terrain - light green\n",
        "    (70, 130, 180),    # 23: sky - steel blue\n",
        "    (255, 0, 0),       # 24: person - bright red\n",
        "    (255, 127, 0),     # 25: rider - dark orange\n",
        "    (0, 0, 255),       # 26: car - bright blue\n",
        "    (0, 150, 255),     # 27: truck - light blue\n",
        "    (0, 80, 150),      # 28: bus - blue-gray\n",
        "    (0, 0, 110),       # 29: caravan\n",
        "    (0, 0, 110),       # 30: trailer\n",
        "    (0, 80, 100),      # 31: train - dark blue-gray\n",
        "    (0, 80, 100),      # 32: motorcycle - teal\n",
        "    (119, 11, 32),     # 33: bicycle - maroon\n",
        "]\n",
        "# Mapping from Cityscapes IDs to training IDs (ignore label is 255)\n",
        "id_to_trainid = {\n",
        "    0: 255, 1: 255, 2: 255, 3: 255, 4: 255, 5: 255, 6: 255,\n",
        "    7: 0,    # road\n",
        "    8: 1,    # sidewalk\n",
        "    9: 255,  # parking\n",
        "    10: 255, # rail track\n",
        "    11: 2,   # building\n",
        "    12: 3,   # wall\n",
        "    13: 4,   # fence\n",
        "    14: 255, # guard rail\n",
        "    15: 255, # bridge\n",
        "    16: 255, # tunnel\n",
        "    17: 5,   # pole\n",
        "    18: 255, # polegroup\n",
        "    19: 6,   # traffic light\n",
        "    20: 7,   # traffic sign\n",
        "    21: 8,   # vegetation\n",
        "    22: 9,   # terrain\n",
        "    23: 10,  # sky\n",
        "    24: 11,  # person\n",
        "    25: 12,  # rider\n",
        "    26: 13,  # car\n",
        "    27: 14,  # truck\n",
        "    28: 15,  # bus\n",
        "    29: 255, # caravan\n",
        "    30: 255, # trailer\n",
        "    31: 16,  # train\n",
        "    32: 17,  # motorcycle\n",
        "    33: 18,  # bicycle\n",
        "}\n",
        "\n",
        "# Define class names for the 19 classes used for training\n",
        "class_names = [\n",
        "    'road', 'sidewalk', 'building', 'wall', 'fence', 'pole',\n",
        "    'traffic light', 'traffic sign', 'vegetation', 'terrain',\n",
        "    'sky', 'person', 'rider', 'car', 'truck', 'bus',\n",
        "    'train', 'motorcycle', 'bicycle'\n",
        "]\n"
      ],
      "metadata": {
        "id": "eKQJF77g_gbn"
      },
      "execution_count": null,
      "outputs": []
    }
  ]
}